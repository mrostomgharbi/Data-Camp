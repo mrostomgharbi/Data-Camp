{
 "cells": [
  {
   "cell_type": "markdown",
   "metadata": {},
   "source": [
    "\n",
    "# Datacamp business case project\n",
    "___\n",
    "# Improving an insurance company's profit  \n",
    "\n",
    "\n",
    "##### Reka HALMAI, Aymen MEJRI, Ahmed BEJAOUI, Raphaël ATTALI, Mohamed GHARBI, Benjamin LAZARD\n",
    "\n",
    "## Table of contents\n",
    "\n",
    "0. [Summary](#0-bullet)  <br>\n",
    "    0.1. [Context](#0.1-bullet)  <br>\n",
    "    0.2. [Data sources](#0.2-bullet)  <br>\n",
    "    0.3. [Suggested studies](#0.3-bullet)  <br>\n",
    "1. [Dataset Analysis](#1-bullet)  <br>\n",
    "    1.1. [Latest policy info dataframe](#1.1-bullet)  <br>\n",
    "    1.2. [Policy info dataframe](#1.2-bullet)  <br>\n",
    "    1.3. [Customer info dataframe](#1.3-bullet)  <br>\n",
    "    1.4. [Agent info info dataframe](#1.4-bullet)  <br>\n",
    "    1.5. [Global merge](#1.5-bullet)  <br>\n",
    "    1.6. [Data cleaning](#1.6-bullet)  <br>  \n",
    "2. [Visualization](#2-bullet)  <br>\n",
    "    2.1. [Seasonality](#2.1-bullet)  <br>\n",
    "    2.2. [Product Performance](#2.2-bullet)  <br>\n",
    "    2.3. [Clustering](#2.3-bullet)  <br>\n",
    "3. [Studies](#3-bullet)  <br>\n",
    "    3.1. [Global Churn prediction:  what are the main factors leading to churn?](#3.1-bullet)  <br>\n",
    "    3.2. [Customer Value regression: which customers are to be tareted by the insurer?](#3.2-bullet) <br>\n",
    "    3.3. [Agent performance regression: what are the best performing agents?](#3.3-bullet)  <br>  \n",
    "4. [Conclusion](#4-bullet)  <br>\n",
    "\n",
    "\n",
    "# 0. Summary <a class=\"anchor\" id=\"0-bullet\"></a> \n",
    "\n",
    "## 0.1. Context <a class=\"anchor\" id=\"0.1-bullet\"></a> \n",
    "\n",
    "This project attempt to analyse three ways an insurance company could perform better- that is to have a long-staying clientele, better performing agent and gathering higher sales levels. In what follows we analyse how the company could limit the number of customers who cancel their subscriptions and how much customers are willing to pay for a given policy.\n",
    "    \n",
    "We have 4 datasets each gathered by the same insurance company in Asia. The data is anonymized, and both the name of the company and the exact location are confidential informations. \n",
    "    \n",
    "## 0.2. Data sources <a class=\"anchor\" id=\"0.2-bullet\"></a> \n",
    "\n",
    "We possess 4 anonymized datasets provided by an insurance company in the context of a challenge for recruitment. It corresponds to the activities of the insurer in one city. It goes without saying although the data is anonymized, we would like to avoit its diffusion on the web.\n",
    "\n",
    "- **policy_info**: a list of contracts, serves as the main table that can join all four tables together. A contract is identified by a unique contract ID, the ID of the corresponding customer and agent. Other informations are available such as: the payment type, the sum assured, the number of riders and the policy premium.\n",
    "- **latest_policy_info**: a dataset providing the status of the contracts (e.g still active, or cancelled). This table can be joint to the main **policy_info** table by the policies' ID-s.\n",
    "- **customer_info**: a dataset providing information of the clientele containing information such as gender, marital status, income, etc. This table can be joint to the main **policy_info** table by the customers' ID-s. The name of the customers is explicit for confidentiality reasons.\n",
    "- **agent_info**: a dataset providing information on the agents containing information such as tenure, number of active portfolios, etc. This table can be joint to the main **policy_info** table by the agents' ID-s. The name is explicit for confidentiality reasons.\n",
    "    \n",
    "## 0.3. Suggested studies <a class=\"anchor\" id=\"0.3-bullet\"></a> \n",
    "   \n",
    "How to limit churn and improve performance is a complex problem. There are a number of actions that could be taken to achieve this goal. We propose the following studies:\n",
    "\n",
    " - **Global prediction of the risk of churn**: using all available data for each contract, can we predict for a new contract if it is likely to be cancelled ? This could serve as a future use identify those clients that are likely to leave the company. If the model is explicable, we can also highlight the reasons behind churn by order of importance and take actions to reducce them for all customers. We attack this problem as a classification task - predicting whether a client will leave or stay. Gathering the right features from the data is the main challenge here.\n",
    " - **Providing a metric for the performance of agents**: What are the main factors related solely to the insurer's workforce that could be used as levers to limit churn. Can we rate agents? Should the company limit the number of customers of each agent? Hire younger agents? This is what we investigate. This challenge is more about visualization, and involves the definition of KPI.\n",
    " - **What amount are customers ready to pay for an insurance policy?**: given a customer profile, what is the most expensive policy they are likely to buy? This study highlight another important element of the performance analysis, good pricing of a policy given a client. We treat this problem as a regression task.\n",
    " - **Can we identify similar groups of customers**: if we can cluster customers, and identify groups, then the insurer will be able to design the minimum number of policies reaching the largest audience and personalize more the policies offert to these groups. \n",
    " \n",
    " \n",
    "# 1. Dataset analysis<a class=\"anchor\" id=\"1-bullet\"></a> \n",
    "\n",
    "First, let us explore the data, and outline strange points. "
   ]
  },
  {
   "cell_type": "code",
   "execution_count": 1,
   "metadata": {
    "ExecuteTime": {
     "end_time": "2019-01-30T15:11:34.006054Z",
     "start_time": "2019-01-30T15:11:32.693591Z"
    }
   },
   "outputs": [],
   "source": [
    "import numpy as np\n",
    "import pandas as pd\n",
    "import pydotplus\n",
    "import seaborn as sns\n",
    "import matplotlib as mpl\n",
    "import matplotlib.pyplot as plt\n",
    "mpl.rcParams['figure.figsize'] = (16.0, 5.0)\n",
    "from display_functions import display_data_types, show_values, display_na\n",
    "%matplotlib inline"
   ]
  },
  {
   "cell_type": "code",
   "execution_count": 2,
   "metadata": {},
   "outputs": [],
   "source": [
    "import warnings\n",
    "warnings.filterwarnings('ignore')"
   ]
  },
  {
   "cell_type": "code",
   "execution_count": 3,
   "metadata": {
    "ExecuteTime": {
     "end_time": "2019-01-30T15:11:34.240462Z",
     "start_time": "2019-01-30T15:11:34.006054Z"
    }
   },
   "outputs": [],
   "source": [
    "# Read all datasets\n",
    "df_latest_policy_info = pd.read_csv(\"latest_policy_info.csv\", sep=\",\")\n",
    "df_policy_info = pd.read_csv(\"policy_info.csv\", sep=\",\")\n",
    "df_customer_info = pd.read_csv(\"customer_info.csv\", sep=\",\")\n",
    "df_agent_info = pd.read_csv(\"agent_info.csv\", sep=\",\")\n",
    "\n",
    "# Change all date cols for date formats\n",
    "list_of_df = [df_policy_info, df_latest_policy_info, df_customer_info, df_agent_info]\n",
    "time_cols = ['last_payment_dt', 'policy_issue_dt', 'time_stamp', 'last_termination_dt']\n",
    "for df in list_of_df:\n",
    "    for time in time_cols:\n",
    "        if time in df: \n",
    "            df[time] = pd.to_datetime(df[time], format='%Y-%m-%d')"
   ]
  },
  {
   "cell_type": "markdown",
   "metadata": {},
   "source": [
    "## 1.1 `df_latest_policy_info`  dataframe <a class=\"anchor\" id=\"1.1-bullet\"></a> "
   ]
  },
  {
   "cell_type": "code",
   "execution_count": 4,
   "metadata": {
    "ExecuteTime": {
     "end_time": "2019-01-30T15:11:34.334162Z",
     "start_time": "2019-01-30T15:11:34.240462Z"
    }
   },
   "outputs": [
    {
     "data": {
      "text/html": [
       "<table>\n",
       "<tbody>\n",
       "<tr><td><b>Data types</td></tr>\n",
       "</tbody>\n",
       "</table>"
      ],
      "text/plain": [
       "<IPython.core.display.HTML object>"
      ]
     },
     "metadata": {},
     "output_type": "display_data"
    },
    {
     "name": "stdout",
     "output_type": "stream",
     "text": [
      "policy_id                      object\n",
      "last_policy_status             object\n",
      "last_termination_dt    datetime64[ns]\n",
      "time_stamp             datetime64[ns]\n",
      "dtype: object\n"
     ]
    },
    {
     "data": {
      "text/html": [
       "<h4>Percentage of missing variables for each feature:"
      ],
      "text/plain": [
       "<IPython.core.display.HTML object>"
      ]
     },
     "metadata": {},
     "output_type": "display_data"
    },
    {
     "name": "stdout",
     "output_type": "stream",
     "text": [
      "policy_id               0.000000\n",
      "last_policy_status      0.000000\n",
      "last_termination_dt    84.981897\n",
      "time_stamp              0.000000\n",
      "dtype: float64\n",
      "\n",
      "\n",
      " Distribution of the status of the policies in the dataset:\n",
      " active       11640\n",
      "cancelled     2170\n",
      "Name: last_policy_status, dtype: int64\n"
     ]
    },
    {
     "data": {
      "text/html": [
       "<table>\n",
       "<tbody>\n",
       "<tr><td><b> Data types of column</td><td>policy_id</td><td>['P_05362503' 'P_05784548' 'P_02113832' ... 'P_09201819' 'P_03341469'\n",
       " 'P_01812163'] </td></tr>\n",
       "</tbody>\n",
       "</table>"
      ],
      "text/plain": [
       "<IPython.core.display.HTML object>"
      ]
     },
     "metadata": {},
     "output_type": "display_data"
    },
    {
     "data": {
      "text/html": [
       "<table>\n",
       "<tbody>\n",
       "<tr><td><b> Data types of column</td><td>last_policy_status</td><td>['active' 'cancelled']</td></tr>\n",
       "</tbody>\n",
       "</table>"
      ],
      "text/plain": [
       "<IPython.core.display.HTML object>"
      ]
     },
     "metadata": {},
     "output_type": "display_data"
    },
    {
     "data": {
      "text/html": [
       "<div>\n",
       "<style scoped>\n",
       "    .dataframe tbody tr th:only-of-type {\n",
       "        vertical-align: middle;\n",
       "    }\n",
       "\n",
       "    .dataframe tbody tr th {\n",
       "        vertical-align: top;\n",
       "    }\n",
       "\n",
       "    .dataframe thead th {\n",
       "        text-align: right;\n",
       "    }\n",
       "</style>\n",
       "<table border=\"1\" class=\"dataframe\">\n",
       "  <thead>\n",
       "    <tr style=\"text-align: right;\">\n",
       "      <th></th>\n",
       "      <th>policy_id</th>\n",
       "      <th>last_policy_status</th>\n",
       "      <th>last_termination_dt</th>\n",
       "      <th>time_stamp</th>\n",
       "    </tr>\n",
       "  </thead>\n",
       "  <tbody>\n",
       "    <tr>\n",
       "      <th>0</th>\n",
       "      <td>P_05362503</td>\n",
       "      <td>active</td>\n",
       "      <td>NaT</td>\n",
       "      <td>2018-01-31</td>\n",
       "    </tr>\n",
       "    <tr>\n",
       "      <th>1</th>\n",
       "      <td>P_05784548</td>\n",
       "      <td>cancelled</td>\n",
       "      <td>2017-08-31</td>\n",
       "      <td>2018-01-31</td>\n",
       "    </tr>\n",
       "    <tr>\n",
       "      <th>2</th>\n",
       "      <td>P_02113832</td>\n",
       "      <td>active</td>\n",
       "      <td>NaT</td>\n",
       "      <td>2018-01-31</td>\n",
       "    </tr>\n",
       "    <tr>\n",
       "      <th>3</th>\n",
       "      <td>P_01777448</td>\n",
       "      <td>active</td>\n",
       "      <td>NaT</td>\n",
       "      <td>2018-01-31</td>\n",
       "    </tr>\n",
       "    <tr>\n",
       "      <th>4</th>\n",
       "      <td>P_00703708</td>\n",
       "      <td>active</td>\n",
       "      <td>NaT</td>\n",
       "      <td>2018-01-31</td>\n",
       "    </tr>\n",
       "  </tbody>\n",
       "</table>\n",
       "</div>"
      ],
      "text/plain": [
       "    policy_id last_policy_status last_termination_dt time_stamp\n",
       "0  P_05362503             active                 NaT 2018-01-31\n",
       "1  P_05784548          cancelled          2017-08-31 2018-01-31\n",
       "2  P_02113832             active                 NaT 2018-01-31\n",
       "3  P_01777448             active                 NaT 2018-01-31\n",
       "4  P_00703708             active                 NaT 2018-01-31"
      ]
     },
     "execution_count": 4,
     "metadata": {},
     "output_type": "execute_result"
    }
   ],
   "source": [
    "display_data_types(df_latest_policy_info)\n",
    "display_na(df_latest_policy_info)\n",
    "print(\"\\n\\n Distribution of the status of the policies in the dataset:\\n\", \n",
    "      df_latest_policy_info['last_policy_status'].value_counts())\n",
    "show_values(df_latest_policy_info)\n",
    "df_latest_policy_info.head()"
   ]
  },
  {
   "cell_type": "markdown",
   "metadata": {},
   "source": [
    "We see that we have a lot of missing variables for `last_termination_dt`. This column shows the cancellation date if the policy has been cancelled, so it is normal that it is N/A for active policies. Let's see if there are any other N/A values."
   ]
  },
  {
   "cell_type": "code",
   "execution_count": 5,
   "metadata": {
    "ExecuteTime": {
     "end_time": "2019-01-30T15:11:34.365412Z",
     "start_time": "2019-01-30T15:11:34.334162Z"
    }
   },
   "outputs": [
    {
     "name": "stdout",
     "output_type": "stream",
     "text": [
      "Number of policies cancelled with NA Termination date : 97\n"
     ]
    }
   ],
   "source": [
    "cancelled_ = df_latest_policy_info[(pd.isna(df_latest_policy_info['last_termination_dt'])) & (df_latest_policy_info['last_policy_status'] == 'cancelled')]\n",
    "print(\"Number of policies cancelled with NA Termination date :\", cancelled_.shape[0])\n",
    "# df_latest_policy_info = df_latest_policy_info.drop(columns=[\"last_termination_dt\"])"
   ]
  },
  {
   "cell_type": "markdown",
   "metadata": {},
   "source": [
    "We see that although we have some policies with Na values that are already cancelled. This is an inacciracy of the dataset. \n",
    "\n",
    "## 1.2  `df_policy_info`  dataframe <a class=\"anchor\" id=\"1.2-bullet\"></a> "
   ]
  },
  {
   "cell_type": "code",
   "execution_count": 6,
   "metadata": {
    "ExecuteTime": {
     "end_time": "2019-01-30T15:11:34.521656Z",
     "start_time": "2019-01-30T15:11:34.365412Z"
    }
   },
   "outputs": [
    {
     "data": {
      "text/html": [
       "<table>\n",
       "<tbody>\n",
       "<tr><td><b>Data types</td></tr>\n",
       "</tbody>\n",
       "</table>"
      ],
      "text/plain": [
       "<IPython.core.display.HTML object>"
      ]
     },
     "metadata": {},
     "output_type": "display_data"
    },
    {
     "name": "stdout",
     "output_type": "stream",
     "text": [
      "policy_id                   object\n",
      "customer_id                 object\n",
      "agent_id                    object\n",
      "policy_status               object\n",
      "last_payment_dt     datetime64[ns]\n",
      "payment_method              object\n",
      "policy_issue_dt     datetime64[ns]\n",
      "contact_channel             object\n",
      "product_code                object\n",
      "policy_status_cd            object\n",
      "sum_assured                float64\n",
      "policy_premium             float64\n",
      "nb_riders                  float64\n",
      "rider_premium              float64\n",
      "time_stamp          datetime64[ns]\n",
      "dtype: object\n"
     ]
    },
    {
     "data": {
      "text/html": [
       "<h4>Percentage of missing variables for each feature:"
      ],
      "text/plain": [
       "<IPython.core.display.HTML object>"
      ]
     },
     "metadata": {},
     "output_type": "display_data"
    },
    {
     "name": "stdout",
     "output_type": "stream",
     "text": [
      "policy_id            0.000000\n",
      "customer_id          0.000000\n",
      "agent_id             0.000000\n",
      "policy_status        0.000000\n",
      "last_payment_dt      0.000000\n",
      "payment_method      35.433255\n",
      "policy_issue_dt      0.000000\n",
      "contact_channel      0.000000\n",
      "product_code         0.000000\n",
      "policy_status_cd     0.000000\n",
      "sum_assured          0.000000\n",
      "policy_premium       0.000000\n",
      "nb_riders            0.000000\n",
      "rider_premium        0.000000\n",
      "time_stamp           0.000000\n",
      "dtype: float64\n"
     ]
    },
    {
     "data": {
      "text/html": [
       "<table>\n",
       "<tbody>\n",
       "<tr><td><b> Data types of column</td><td>policy_id</td><td>['P_09999136' 'P_09997871' 'P_09997185' ... 'P_00002829' 'P_00002382'\n",
       " 'P_00000056'] </td></tr>\n",
       "</tbody>\n",
       "</table>"
      ],
      "text/plain": [
       "<IPython.core.display.HTML object>"
      ]
     },
     "metadata": {},
     "output_type": "display_data"
    },
    {
     "data": {
      "text/html": [
       "<table>\n",
       "<tbody>\n",
       "<tr><td><b> Data types of column</td><td>customer_id</td><td>['C_09808525' 'C_07900045' 'C_01035799' ... 'C_07153911' 'C_05661333'\n",
       " 'C_04068801'] </td></tr>\n",
       "</tbody>\n",
       "</table>"
      ],
      "text/plain": [
       "<IPython.core.display.HTML object>"
      ]
     },
     "metadata": {},
     "output_type": "display_data"
    },
    {
     "data": {
      "text/html": [
       "<table>\n",
       "<tbody>\n",
       "<tr><td><b> Data types of column</td><td>agent_id</td><td>['AG_03198874' 'AG_05276714' 'AG_04302485' ... 'AG_08081725' 'AG_04377203'\n",
       " 'AG_00318885'] </td></tr>\n",
       "</tbody>\n",
       "</table>"
      ],
      "text/plain": [
       "<IPython.core.display.HTML object>"
      ]
     },
     "metadata": {},
     "output_type": "display_data"
    },
    {
     "data": {
      "text/html": [
       "<table>\n",
       "<tbody>\n",
       "<tr><td><b> Data types of column</td><td>policy_status</td><td>['active']</td></tr>\n",
       "</tbody>\n",
       "</table>"
      ],
      "text/plain": [
       "<IPython.core.display.HTML object>"
      ]
     },
     "metadata": {},
     "output_type": "display_data"
    },
    {
     "data": {
      "text/html": [
       "<table>\n",
       "<tbody>\n",
       "<tr><td><b> Data types of column</td><td>payment_method</td><td>[nan 'auto']</td></tr>\n",
       "</tbody>\n",
       "</table>"
      ],
      "text/plain": [
       "<IPython.core.display.HTML object>"
      ]
     },
     "metadata": {},
     "output_type": "display_data"
    },
    {
     "data": {
      "text/html": [
       "<table>\n",
       "<tbody>\n",
       "<tr><td><b> Data types of column</td><td>contact_channel</td><td>['agency' 'broker' 'direct' 'partnership']</td></tr>\n",
       "</tbody>\n",
       "</table>"
      ],
      "text/plain": [
       "<IPython.core.display.HTML object>"
      ]
     },
     "metadata": {},
     "output_type": "display_data"
    },
    {
     "data": {
      "text/html": [
       "<table>\n",
       "<tbody>\n",
       "<tr><td><b> Data types of column</td><td>product_code</td><td>['BP_00479053' 'BP_03740581' 'BP_00069568' 'BP_04345985' 'BP_02602657'\n",
       " 'BP_04904952' 'BP_00334803' 'BP_03610818' 'BP_05367939' 'BP_06342177'\n",
       " 'BP_09828249' 'BP_06134513' 'BP_02713903' 'BP_09034941' 'BP_02392541'\n",
       " 'BP_01087308' 'BP_07897771' 'BP_09825120' 'BP_03765630' 'BP_06758239'\n",
       " 'BP_02051691' 'BP_01127451' 'BP_03569413' 'BP_04229248' 'BP_01260044'\n",
       " 'BP_09740724' 'BP_05169954' 'BP_08525135' 'BP_07668115' 'BP_04044020'\n",
       " 'BP_01308135' 'BP_09391664' 'BP_04023598' 'BP_02483900' 'BP_02399030'\n",
       " 'BP_07119562' 'BP_07665809' 'BP_02048854' 'BP_04624090' 'BP_08252793'\n",
       " 'BP_03919759' 'BP_04707731' 'BP_04399222' 'BP_01653768' 'BP_00170090'\n",
       " 'BP_01817929' 'BP_05538098' 'BP_08384630' 'BP_09426101' 'BP_07570704'\n",
       " 'BP_09208081' 'BP_03922794' 'BP_01183560' 'BP_06646153' 'BP_01976597'] </td></tr>\n",
       "</tbody>\n",
       "</table>"
      ],
      "text/plain": [
       "<IPython.core.display.HTML object>"
      ]
     },
     "metadata": {},
     "output_type": "display_data"
    },
    {
     "data": {
      "text/html": [
       "<table>\n",
       "<tbody>\n",
       "<tr><td><b> Data types of column</td><td>policy_status_cd</td><td>['A' 'B']</td></tr>\n",
       "</tbody>\n",
       "</table>"
      ],
      "text/plain": [
       "<IPython.core.display.HTML object>"
      ]
     },
     "metadata": {},
     "output_type": "display_data"
    },
    {
     "data": {
      "text/html": [
       "<div>\n",
       "<style scoped>\n",
       "    .dataframe tbody tr th:only-of-type {\n",
       "        vertical-align: middle;\n",
       "    }\n",
       "\n",
       "    .dataframe tbody tr th {\n",
       "        vertical-align: top;\n",
       "    }\n",
       "\n",
       "    .dataframe thead th {\n",
       "        text-align: right;\n",
       "    }\n",
       "</style>\n",
       "<table border=\"1\" class=\"dataframe\">\n",
       "  <thead>\n",
       "    <tr style=\"text-align: right;\">\n",
       "      <th></th>\n",
       "      <th>policy_id</th>\n",
       "      <th>customer_id</th>\n",
       "      <th>agent_id</th>\n",
       "      <th>policy_status</th>\n",
       "      <th>last_payment_dt</th>\n",
       "      <th>payment_method</th>\n",
       "      <th>policy_issue_dt</th>\n",
       "      <th>contact_channel</th>\n",
       "      <th>product_code</th>\n",
       "      <th>policy_status_cd</th>\n",
       "      <th>sum_assured</th>\n",
       "      <th>policy_premium</th>\n",
       "      <th>nb_riders</th>\n",
       "      <th>rider_premium</th>\n",
       "      <th>time_stamp</th>\n",
       "    </tr>\n",
       "  </thead>\n",
       "  <tbody>\n",
       "    <tr>\n",
       "      <th>0</th>\n",
       "      <td>P_09999136</td>\n",
       "      <td>C_09808525</td>\n",
       "      <td>AG_03198874</td>\n",
       "      <td>active</td>\n",
       "      <td>2016-09-30</td>\n",
       "      <td>NaN</td>\n",
       "      <td>2015-08-31</td>\n",
       "      <td>agency</td>\n",
       "      <td>BP_00479053</td>\n",
       "      <td>A</td>\n",
       "      <td>1252000.0</td>\n",
       "      <td>1500.0</td>\n",
       "      <td>1.0</td>\n",
       "      <td>1100.0</td>\n",
       "      <td>2017-01-31</td>\n",
       "    </tr>\n",
       "    <tr>\n",
       "      <th>1</th>\n",
       "      <td>P_09997871</td>\n",
       "      <td>C_07900045</td>\n",
       "      <td>AG_05276714</td>\n",
       "      <td>active</td>\n",
       "      <td>2016-12-31</td>\n",
       "      <td>auto</td>\n",
       "      <td>2016-12-31</td>\n",
       "      <td>agency</td>\n",
       "      <td>BP_03740581</td>\n",
       "      <td>A</td>\n",
       "      <td>1072000.0</td>\n",
       "      <td>2200.0</td>\n",
       "      <td>2.0</td>\n",
       "      <td>1600.0</td>\n",
       "      <td>2017-01-31</td>\n",
       "    </tr>\n",
       "    <tr>\n",
       "      <th>2</th>\n",
       "      <td>P_09997185</td>\n",
       "      <td>C_01035799</td>\n",
       "      <td>AG_04302485</td>\n",
       "      <td>active</td>\n",
       "      <td>2016-04-30</td>\n",
       "      <td>NaN</td>\n",
       "      <td>2015-04-30</td>\n",
       "      <td>agency</td>\n",
       "      <td>BP_00069568</td>\n",
       "      <td>A</td>\n",
       "      <td>1274000.0</td>\n",
       "      <td>1700.0</td>\n",
       "      <td>2.0</td>\n",
       "      <td>1300.0</td>\n",
       "      <td>2017-01-31</td>\n",
       "    </tr>\n",
       "    <tr>\n",
       "      <th>3</th>\n",
       "      <td>P_09996824</td>\n",
       "      <td>C_08796001</td>\n",
       "      <td>AG_04873767</td>\n",
       "      <td>active</td>\n",
       "      <td>2016-07-31</td>\n",
       "      <td>NaN</td>\n",
       "      <td>2014-08-31</td>\n",
       "      <td>broker</td>\n",
       "      <td>BP_04345985</td>\n",
       "      <td>A</td>\n",
       "      <td>1720000.0</td>\n",
       "      <td>2900.0</td>\n",
       "      <td>1.0</td>\n",
       "      <td>1400.0</td>\n",
       "      <td>2017-01-31</td>\n",
       "    </tr>\n",
       "    <tr>\n",
       "      <th>4</th>\n",
       "      <td>P_09996157</td>\n",
       "      <td>C_01435905</td>\n",
       "      <td>AG_07944835</td>\n",
       "      <td>active</td>\n",
       "      <td>2016-04-30</td>\n",
       "      <td>auto</td>\n",
       "      <td>2011-04-30</td>\n",
       "      <td>agency</td>\n",
       "      <td>BP_02602657</td>\n",
       "      <td>A</td>\n",
       "      <td>1360000.0</td>\n",
       "      <td>1700.0</td>\n",
       "      <td>3.0</td>\n",
       "      <td>1400.0</td>\n",
       "      <td>2017-01-31</td>\n",
       "    </tr>\n",
       "  </tbody>\n",
       "</table>\n",
       "</div>"
      ],
      "text/plain": [
       "    policy_id customer_id     agent_id policy_status last_payment_dt  \\\n",
       "0  P_09999136  C_09808525  AG_03198874        active      2016-09-30   \n",
       "1  P_09997871  C_07900045  AG_05276714        active      2016-12-31   \n",
       "2  P_09997185  C_01035799  AG_04302485        active      2016-04-30   \n",
       "3  P_09996824  C_08796001  AG_04873767        active      2016-07-31   \n",
       "4  P_09996157  C_01435905  AG_07944835        active      2016-04-30   \n",
       "\n",
       "  payment_method policy_issue_dt contact_channel product_code  \\\n",
       "0            NaN      2015-08-31          agency  BP_00479053   \n",
       "1           auto      2016-12-31          agency  BP_03740581   \n",
       "2            NaN      2015-04-30          agency  BP_00069568   \n",
       "3            NaN      2014-08-31          broker  BP_04345985   \n",
       "4           auto      2011-04-30          agency  BP_02602657   \n",
       "\n",
       "  policy_status_cd  sum_assured  policy_premium  nb_riders  rider_premium  \\\n",
       "0                A    1252000.0          1500.0        1.0         1100.0   \n",
       "1                A    1072000.0          2200.0        2.0         1600.0   \n",
       "2                A    1274000.0          1700.0        2.0         1300.0   \n",
       "3                A    1720000.0          2900.0        1.0         1400.0   \n",
       "4                A    1360000.0          1700.0        3.0         1400.0   \n",
       "\n",
       "  time_stamp  \n",
       "0 2017-01-31  \n",
       "1 2017-01-31  \n",
       "2 2017-01-31  \n",
       "3 2017-01-31  \n",
       "4 2017-01-31  "
      ]
     },
     "execution_count": 6,
     "metadata": {},
     "output_type": "execute_result"
    }
   ],
   "source": [
    "display_data_types(df_policy_info)\n",
    "display_na(df_policy_info)\n",
    "show_values(df_policy_info)\n",
    "df_policy_info.head()"
   ]
  },
  {
   "cell_type": "markdown",
   "metadata": {},
   "source": [
    "The feature `payment_method` seems not very informative as we see above: it contains a lot of missing values. We show below, that has only one other value, and because of this, we decide to drop it."
   ]
  },
  {
   "cell_type": "code",
   "execution_count": 7,
   "metadata": {
    "ExecuteTime": {
     "end_time": "2019-01-30T15:11:34.552920Z",
     "start_time": "2019-01-30T15:11:34.521656Z"
    }
   },
   "outputs": [
    {
     "name": "stdout",
     "output_type": "stream",
     "text": [
      "Unique values of payment_method : [nan 'auto']\n"
     ]
    }
   ],
   "source": [
    "print(\"Unique values of payment_method :\", pd.unique(df_policy_info.payment_method))\n",
    "df_policy_info = df_policy_info.drop('payment_method', axis=1)"
   ]
  },
  {
   "cell_type": "markdown",
   "metadata": {},
   "source": [
    "## 1.3  `df_customer_info`  dataframe <a class=\"anchor\" id=\"1.3-bullet\"></a> "
   ]
  },
  {
   "cell_type": "code",
   "execution_count": 8,
   "metadata": {
    "ExecuteTime": {
     "end_time": "2019-01-30T15:11:34.662277Z",
     "start_time": "2019-01-30T15:11:34.552920Z"
    }
   },
   "outputs": [
    {
     "data": {
      "text/html": [
       "<table>\n",
       "<tbody>\n",
       "<tr><td><b>Data types</td></tr>\n",
       "</tbody>\n",
       "</table>"
      ],
      "text/plain": [
       "<IPython.core.display.HTML object>"
      ]
     },
     "metadata": {},
     "output_type": "display_data"
    },
    {
     "name": "stdout",
     "output_type": "stream",
     "text": [
      "customer_id                             object\n",
      "customer_origin                         object\n",
      "customer_gender                         object\n",
      "customer_marital_cd                      int64\n",
      "customer_age                           float64\n",
      "customer_social_group                  float64\n",
      "customer_income                        float64\n",
      "customer_additional_products             int64\n",
      "time_stamp                      datetime64[ns]\n",
      "dtype: object\n"
     ]
    },
    {
     "data": {
      "text/html": [
       "<h4>Percentage of missing variables for each feature:"
      ],
      "text/plain": [
       "<IPython.core.display.HTML object>"
      ]
     },
     "metadata": {},
     "output_type": "display_data"
    },
    {
     "name": "stdout",
     "output_type": "stream",
     "text": [
      "customer_id                     0.000000\n",
      "customer_origin                 0.000000\n",
      "customer_gender                 0.000000\n",
      "customer_marital_cd             0.000000\n",
      "customer_age                    0.000000\n",
      "customer_social_group           0.000000\n",
      "customer_income                 8.404356\n",
      "customer_additional_products    0.000000\n",
      "time_stamp                      0.000000\n",
      "dtype: float64\n"
     ]
    },
    {
     "data": {
      "text/html": [
       "<table>\n",
       "<tbody>\n",
       "<tr><td><b> Data types of column</td><td>customer_id</td><td>['C_08731460' 'C_05449312' 'C_03363701' ... 'C_05558075' 'C_06555729'\n",
       " 'C_01527580'] </td></tr>\n",
       "</tbody>\n",
       "</table>"
      ],
      "text/plain": [
       "<IPython.core.display.HTML object>"
      ]
     },
     "metadata": {},
     "output_type": "display_data"
    },
    {
     "data": {
      "text/html": [
       "<table>\n",
       "<tbody>\n",
       "<tr><td><b> Data types of column</td><td>customer_origin</td><td>['new' 'existing']</td></tr>\n",
       "</tbody>\n",
       "</table>"
      ],
      "text/plain": [
       "<IPython.core.display.HTML object>"
      ]
     },
     "metadata": {},
     "output_type": "display_data"
    },
    {
     "data": {
      "text/html": [
       "<table>\n",
       "<tbody>\n",
       "<tr><td><b> Data types of column</td><td>customer_gender</td><td>['F' 'M' '0']</td></tr>\n",
       "</tbody>\n",
       "</table>"
      ],
      "text/plain": [
       "<IPython.core.display.HTML object>"
      ]
     },
     "metadata": {},
     "output_type": "display_data"
    },
    {
     "data": {
      "text/html": [
       "<div>\n",
       "<style scoped>\n",
       "    .dataframe tbody tr th:only-of-type {\n",
       "        vertical-align: middle;\n",
       "    }\n",
       "\n",
       "    .dataframe tbody tr th {\n",
       "        vertical-align: top;\n",
       "    }\n",
       "\n",
       "    .dataframe thead th {\n",
       "        text-align: right;\n",
       "    }\n",
       "</style>\n",
       "<table border=\"1\" class=\"dataframe\">\n",
       "  <thead>\n",
       "    <tr style=\"text-align: right;\">\n",
       "      <th></th>\n",
       "      <th>customer_id</th>\n",
       "      <th>customer_origin</th>\n",
       "      <th>customer_gender</th>\n",
       "      <th>customer_marital_cd</th>\n",
       "      <th>customer_age</th>\n",
       "      <th>customer_social_group</th>\n",
       "      <th>customer_income</th>\n",
       "      <th>customer_additional_products</th>\n",
       "      <th>time_stamp</th>\n",
       "    </tr>\n",
       "  </thead>\n",
       "  <tbody>\n",
       "    <tr>\n",
       "      <th>0</th>\n",
       "      <td>C_08731460</td>\n",
       "      <td>new</td>\n",
       "      <td>F</td>\n",
       "      <td>2</td>\n",
       "      <td>35.0</td>\n",
       "      <td>5.0</td>\n",
       "      <td>65000.0</td>\n",
       "      <td>1</td>\n",
       "      <td>2017-01-31</td>\n",
       "    </tr>\n",
       "    <tr>\n",
       "      <th>1</th>\n",
       "      <td>C_05449312</td>\n",
       "      <td>new</td>\n",
       "      <td>M</td>\n",
       "      <td>1</td>\n",
       "      <td>45.0</td>\n",
       "      <td>3.0</td>\n",
       "      <td>75000.0</td>\n",
       "      <td>2</td>\n",
       "      <td>2017-01-31</td>\n",
       "    </tr>\n",
       "    <tr>\n",
       "      <th>2</th>\n",
       "      <td>C_03363701</td>\n",
       "      <td>new</td>\n",
       "      <td>M</td>\n",
       "      <td>2</td>\n",
       "      <td>40.0</td>\n",
       "      <td>7.0</td>\n",
       "      <td>95000.0</td>\n",
       "      <td>3</td>\n",
       "      <td>2017-01-31</td>\n",
       "    </tr>\n",
       "    <tr>\n",
       "      <th>3</th>\n",
       "      <td>C_08411735</td>\n",
       "      <td>new</td>\n",
       "      <td>M</td>\n",
       "      <td>2</td>\n",
       "      <td>40.0</td>\n",
       "      <td>8.0</td>\n",
       "      <td>70000.0</td>\n",
       "      <td>1</td>\n",
       "      <td>2017-01-31</td>\n",
       "    </tr>\n",
       "    <tr>\n",
       "      <th>4</th>\n",
       "      <td>C_03778133</td>\n",
       "      <td>new</td>\n",
       "      <td>F</td>\n",
       "      <td>2</td>\n",
       "      <td>35.0</td>\n",
       "      <td>7.0</td>\n",
       "      <td>130000.0</td>\n",
       "      <td>4</td>\n",
       "      <td>2017-01-31</td>\n",
       "    </tr>\n",
       "  </tbody>\n",
       "</table>\n",
       "</div>"
      ],
      "text/plain": [
       "  customer_id customer_origin customer_gender  customer_marital_cd  \\\n",
       "0  C_08731460             new               F                    2   \n",
       "1  C_05449312             new               M                    1   \n",
       "2  C_03363701             new               M                    2   \n",
       "3  C_08411735             new               M                    2   \n",
       "4  C_03778133             new               F                    2   \n",
       "\n",
       "   customer_age  customer_social_group  customer_income  \\\n",
       "0          35.0                    5.0          65000.0   \n",
       "1          45.0                    3.0          75000.0   \n",
       "2          40.0                    7.0          95000.0   \n",
       "3          40.0                    8.0          70000.0   \n",
       "4          35.0                    7.0         130000.0   \n",
       "\n",
       "   customer_additional_products time_stamp  \n",
       "0                             1 2017-01-31  \n",
       "1                             2 2017-01-31  \n",
       "2                             3 2017-01-31  \n",
       "3                             1 2017-01-31  \n",
       "4                             4 2017-01-31  "
      ]
     },
     "execution_count": 8,
     "metadata": {},
     "output_type": "execute_result"
    }
   ],
   "source": [
    "display_data_types(df_customer_info)\n",
    "display_na(df_customer_info)\n",
    "show_values(df_customer_info)\n",
    "df_customer_info.head()"
   ]
  },
  {
   "cell_type": "markdown",
   "metadata": {},
   "source": [
    "## 1.4  `df_agent_info` dataframe <a class=\"anchor\" id=\"1.4-bullet\"></a> "
   ]
  },
  {
   "cell_type": "code",
   "execution_count": 9,
   "metadata": {
    "ExecuteTime": {
     "end_time": "2019-01-30T15:11:34.724774Z",
     "start_time": "2019-01-30T15:11:34.662277Z"
    }
   },
   "outputs": [
    {
     "data": {
      "text/html": [
       "<table>\n",
       "<tbody>\n",
       "<tr><td><b>Data types</td></tr>\n",
       "</tbody>\n",
       "</table>"
      ],
      "text/plain": [
       "<IPython.core.display.HTML object>"
      ]
     },
     "metadata": {},
     "output_type": "display_data"
    },
    {
     "name": "stdout",
     "output_type": "stream",
     "text": [
      "agent_id                            object\n",
      "agent_age                          float64\n",
      "agent_tenure                         int64\n",
      "agent_status                        object\n",
      "agent_active_portfolio             float64\n",
      "agent_inactive_portfolio           float64\n",
      "time_stamp                  datetime64[ns]\n",
      "dtype: object\n"
     ]
    },
    {
     "data": {
      "text/html": [
       "<h4>Percentage of missing variables for each feature:"
      ],
      "text/plain": [
       "<IPython.core.display.HTML object>"
      ]
     },
     "metadata": {},
     "output_type": "display_data"
    },
    {
     "name": "stdout",
     "output_type": "stream",
     "text": [
      "agent_id                    0.0\n",
      "agent_age                   0.0\n",
      "agent_tenure                0.0\n",
      "agent_status                0.0\n",
      "agent_active_portfolio      0.0\n",
      "agent_inactive_portfolio    0.0\n",
      "time_stamp                  0.0\n",
      "dtype: float64\n"
     ]
    },
    {
     "data": {
      "text/html": [
       "<table>\n",
       "<tbody>\n",
       "<tr><td><b> Data types of column</td><td>agent_id</td><td>['AG_08346231' 'AG_06776450' 'AG_04703674' ... 'AG_02557702' 'AG_02328517'\n",
       " 'AG_06391963'] </td></tr>\n",
       "</tbody>\n",
       "</table>"
      ],
      "text/plain": [
       "<IPython.core.display.HTML object>"
      ]
     },
     "metadata": {},
     "output_type": "display_data"
    },
    {
     "data": {
      "text/html": [
       "<table>\n",
       "<tbody>\n",
       "<tr><td><b> Data types of column</td><td>agent_status</td><td>['active' 'inactive']</td></tr>\n",
       "</tbody>\n",
       "</table>"
      ],
      "text/plain": [
       "<IPython.core.display.HTML object>"
      ]
     },
     "metadata": {},
     "output_type": "display_data"
    },
    {
     "data": {
      "text/html": [
       "<div>\n",
       "<style scoped>\n",
       "    .dataframe tbody tr th:only-of-type {\n",
       "        vertical-align: middle;\n",
       "    }\n",
       "\n",
       "    .dataframe tbody tr th {\n",
       "        vertical-align: top;\n",
       "    }\n",
       "\n",
       "    .dataframe thead th {\n",
       "        text-align: right;\n",
       "    }\n",
       "</style>\n",
       "<table border=\"1\" class=\"dataframe\">\n",
       "  <thead>\n",
       "    <tr style=\"text-align: right;\">\n",
       "      <th></th>\n",
       "      <th>agent_id</th>\n",
       "      <th>agent_age</th>\n",
       "      <th>agent_tenure</th>\n",
       "      <th>agent_status</th>\n",
       "      <th>agent_active_portfolio</th>\n",
       "      <th>agent_inactive_portfolio</th>\n",
       "      <th>time_stamp</th>\n",
       "    </tr>\n",
       "  </thead>\n",
       "  <tbody>\n",
       "    <tr>\n",
       "      <th>0</th>\n",
       "      <td>AG_08346231</td>\n",
       "      <td>40.0</td>\n",
       "      <td>10</td>\n",
       "      <td>active</td>\n",
       "      <td>53.0</td>\n",
       "      <td>52.0</td>\n",
       "      <td>2017-01-31</td>\n",
       "    </tr>\n",
       "    <tr>\n",
       "      <th>1</th>\n",
       "      <td>AG_06776450</td>\n",
       "      <td>50.0</td>\n",
       "      <td>7</td>\n",
       "      <td>active</td>\n",
       "      <td>58.0</td>\n",
       "      <td>55.0</td>\n",
       "      <td>2017-01-31</td>\n",
       "    </tr>\n",
       "    <tr>\n",
       "      <th>2</th>\n",
       "      <td>AG_04703674</td>\n",
       "      <td>55.0</td>\n",
       "      <td>10</td>\n",
       "      <td>active</td>\n",
       "      <td>81.0</td>\n",
       "      <td>61.0</td>\n",
       "      <td>2017-01-31</td>\n",
       "    </tr>\n",
       "    <tr>\n",
       "      <th>3</th>\n",
       "      <td>AG_03793197</td>\n",
       "      <td>35.0</td>\n",
       "      <td>8</td>\n",
       "      <td>active</td>\n",
       "      <td>99.0</td>\n",
       "      <td>61.0</td>\n",
       "      <td>2017-01-31</td>\n",
       "    </tr>\n",
       "    <tr>\n",
       "      <th>4</th>\n",
       "      <td>AG_07126385</td>\n",
       "      <td>40.0</td>\n",
       "      <td>9</td>\n",
       "      <td>active</td>\n",
       "      <td>96.0</td>\n",
       "      <td>59.0</td>\n",
       "      <td>2017-01-31</td>\n",
       "    </tr>\n",
       "  </tbody>\n",
       "</table>\n",
       "</div>"
      ],
      "text/plain": [
       "      agent_id  agent_age  agent_tenure agent_status  agent_active_portfolio  \\\n",
       "0  AG_08346231       40.0            10       active                    53.0   \n",
       "1  AG_06776450       50.0             7       active                    58.0   \n",
       "2  AG_04703674       55.0            10       active                    81.0   \n",
       "3  AG_03793197       35.0             8       active                    99.0   \n",
       "4  AG_07126385       40.0             9       active                    96.0   \n",
       "\n",
       "   agent_inactive_portfolio time_stamp  \n",
       "0                      52.0 2017-01-31  \n",
       "1                      55.0 2017-01-31  \n",
       "2                      61.0 2017-01-31  \n",
       "3                      61.0 2017-01-31  \n",
       "4                      59.0 2017-01-31  "
      ]
     },
     "execution_count": 9,
     "metadata": {},
     "output_type": "execute_result"
    }
   ],
   "source": [
    "display_data_types(df_agent_info)\n",
    "display_na(df_agent_info)\n",
    "show_values(df_agent_info)\n",
    "df_agent_info.head()"
   ]
  },
  {
   "cell_type": "markdown",
   "metadata": {},
   "source": [
    "## 1.5 Merging the dataframes <a class=\"anchor\" id=\"1.5-bullet\"></a> \n",
    "\n",
    "Some of the studies we suggest may benefit from the crossing of these datasets therefore we create here a merged table 'data'. However, not all studies use the same exact merge and therefore we might define a different technic to merge the datasets. \n",
    "\n",
    "- join `df_policy_info` and `df_latest_policy_info` together the policy_id\n",
    "- join `df_customer_info` and `df_policy_info` by customer_id\n",
    "- join `df_agent_info` and `df_policy_info` by agent_id"
   ]
  },
  {
   "cell_type": "code",
   "execution_count": 10,
   "metadata": {
    "ExecuteTime": {
     "end_time": "2019-01-30T15:11:34.802900Z",
     "start_time": "2019-01-30T15:11:34.724774Z"
    }
   },
   "outputs": [
    {
     "name": "stdout",
     "output_type": "stream",
     "text": [
      "Left-out data from the table 'df_policy_info' : 0\n",
      "Left-out data from the table 'df_policy_info' :  1000\n"
     ]
    }
   ],
   "source": [
    "policies_merged = pd.merge(df_policy_info, df_latest_policy_info, on='policy_id')\n",
    "\n",
    "# Checking left-out observations\n",
    "print(\"Left-out data from the table 'df_policy_info' :\", df_policy_info[(~df_policy_info.policy_id.isin(policies_merged.policy_id))].shape[0])\n",
    "print(\"Left-out data from the table 'df_policy_info' : \", df_latest_policy_info[(~df_latest_policy_info.policy_id.isin(policies_merged.policy_id))].shape[0])\n",
    "\n",
    "# Saving policies present in 'df_latest_policy_info' but not in 'df_policy_info'\n",
    "new_policies = df_latest_policy_info[(~df_latest_policy_info.policy_id.isin(policies_merged.policy_id))]"
   ]
  },
  {
   "cell_type": "markdown",
   "metadata": {},
   "source": [
    "Left-out information is the result of the difference in time of the data collection: `df_policy_info` contains data pulled a year before `df_latest_policy_info` was created."
   ]
  },
  {
   "cell_type": "code",
   "execution_count": 11,
   "metadata": {
    "ExecuteTime": {
     "end_time": "2019-01-30T15:11:34.896645Z",
     "start_time": "2019-01-30T15:11:34.802900Z"
    }
   },
   "outputs": [
    {
     "name": "stdout",
     "output_type": "stream",
     "text": [
      "Left-out data from the table 'df_customer_info' : 500\n",
      "Left-out data from the table 'df_policy_info' : 0\n"
     ]
    }
   ],
   "source": [
    "# Next merge df_customer_info with data\n",
    "pol_cus = pd.merge(policies_merged, df_customer_info, on='customer_id')\n",
    "\n",
    "# Checking left-out observations\n",
    "print(\"Left-out data from the table 'df_customer_info' :\", df_customer_info[(~df_customer_info.customer_id.isin(pol_cus.customer_id))].shape[0])\n",
    "print(\"Left-out data from the table 'df_policy_info' :\", df_policy_info[(~df_policy_info.customer_id.isin(pol_cus.customer_id))].shape[0])\n",
    "\n",
    "# Saving policies present in 'df_customer_info' but not in 'df_policy_info'\n",
    "left_out_customer = df_customer_info[(~df_customer_info.customer_id.isin(pol_cus.customer_id))]"
   ]
  },
  {
   "cell_type": "code",
   "execution_count": 12,
   "metadata": {
    "ExecuteTime": {
     "end_time": "2019-01-30T15:11:34.974766Z",
     "start_time": "2019-01-30T15:11:34.896645Z"
    }
   },
   "outputs": [
    {
     "name": "stdout",
     "output_type": "stream",
     "text": [
      "Left-out data from the table 'df_agent_info' : 200\n",
      "Left-out data from the table 'df_policy_info' : 0\n"
     ]
    }
   ],
   "source": [
    "# Finally join the agent table: \n",
    "data = pd.merge(pol_cus, df_agent_info, on='agent_id')\n",
    "\n",
    "# Checking left-out observations\n",
    "print(\"Left-out data from the table 'df_agent_info' :\", df_agent_info[(~df_agent_info.agent_id.isin(data.agent_id))].shape[0])\n",
    "print(\"Left-out data from the table 'df_policy_info' :\", df_policy_info[(~df_policy_info.agent_id.isin(data.agent_id))].shape[0])\n"
   ]
  },
  {
   "cell_type": "markdown",
   "metadata": {},
   "source": [
    "700 rows were eliminated in the final merge as there were more agents and customers data than policy data...\n",
    "\n",
    "## 1.6. Cleaning <a class=\"anchor\" id=\"1.6-bullet\"></a> \n",
    "\n",
    "In the final dataset, the feature customer_income still has (a resonable amount of) missing values, last_termination_dt is hardly exploitable, and the rest is perfect."
   ]
  },
  {
   "cell_type": "code",
   "execution_count": 13,
   "metadata": {
    "ExecuteTime": {
     "end_time": "2019-01-30T15:11:35.037269Z",
     "start_time": "2019-01-30T15:11:34.974766Z"
    }
   },
   "outputs": [
    {
     "data": {
      "text/html": [
       "<h4>Percentage of missing variables for each feature:"
      ],
      "text/plain": [
       "<IPython.core.display.HTML object>"
      ]
     },
     "metadata": {},
     "output_type": "display_data"
    },
    {
     "name": "stdout",
     "output_type": "stream",
     "text": [
      "policy_id                        0.000000\n",
      "customer_id                      0.000000\n",
      "agent_id                         0.000000\n",
      "policy_status                    0.000000\n",
      "last_payment_dt                  0.000000\n",
      "policy_issue_dt                  0.000000\n",
      "contact_channel                  0.000000\n",
      "product_code                     0.000000\n",
      "policy_status_cd                 0.000000\n",
      "sum_assured                      0.000000\n",
      "policy_premium                   0.000000\n",
      "nb_riders                        0.000000\n",
      "rider_premium                    0.000000\n",
      "time_stamp_x                     0.000000\n",
      "last_policy_status               0.000000\n",
      "last_termination_dt             84.496487\n",
      "time_stamp_y                     0.000000\n",
      "customer_origin                  0.000000\n",
      "customer_gender                  0.000000\n",
      "customer_marital_cd              0.000000\n",
      "customer_age                     0.000000\n",
      "customer_social_group            0.000000\n",
      "customer_income                  6.994536\n",
      "customer_additional_products     0.000000\n",
      "time_stamp_x                     0.000000\n",
      "agent_age                        0.000000\n",
      "agent_tenure                     0.000000\n",
      "agent_status                     0.000000\n",
      "agent_active_portfolio           0.000000\n",
      "agent_inactive_portfolio         0.000000\n",
      "time_stamp_y                     0.000000\n",
      "dtype: float64\n"
     ]
    }
   ],
   "source": [
    "# data = data.drop(columns=[\"last_termination_dt\"])\n",
    "display_na(data)"
   ]
  },
  {
   "cell_type": "markdown",
   "metadata": {},
   "source": [
    "Let us perform a quick correlation analysis: should we remove some variables beforehand if they are highly correlated with each other?"
   ]
  },
  {
   "cell_type": "code",
   "execution_count": 14,
   "metadata": {
    "ExecuteTime": {
     "end_time": "2019-01-30T15:11:35.459127Z",
     "start_time": "2019-01-30T15:11:35.037269Z"
    }
   },
   "outputs": [
    {
     "data": {
      "image/png": "[encoded data removed]",
      "text/plain": [
       "<Figure size 864x576 with 2 Axes>"
      ]
     },
     "metadata": {
      "needs_background": "light"
     },
     "output_type": "display_data"
    },
    {
     "data": {
      "text/plain": [
       "<Figure size 432x288 with 0 Axes>"
      ]
     },
     "metadata": {},
     "output_type": "display_data"
    }
   ],
   "source": [
    "numcols = data.columns[data.dtypes.eq('float64')]\n",
    "# Plot a heatmap to determine if any variables are correlated\n",
    "plt.figure(figsize=(12, 8))\n",
    "sns.heatmap(data=data[numcols].corr())\n",
    "plt.show()\n",
    "plt.gcf().clear()"
   ]
  },
  {
   "cell_type": "markdown",
   "metadata": {},
   "source": [
    "It seems most of the variables are informative... Except the last one which correlates too perfectly with the penultimate one."
   ]
  },
  {
   "cell_type": "code",
   "execution_count": 15,
   "metadata": {
    "ExecuteTime": {
     "end_time": "2019-01-30T15:11:35.490375Z",
     "start_time": "2019-01-30T15:11:35.459127Z"
    }
   },
   "outputs": [],
   "source": [
    "data = data.drop(columns=[\"agent_inactive_portfolio\"])"
   ]
  },
  {
   "cell_type": "markdown",
   "metadata": {},
   "source": [
    "# 2. Visualizations <a class=\"anchor\" id=\"2-bullet\"></a> \n",
    "\n",
    "Now that the data is globally clean, we can build a few visualizations in order to provide some degree of explanation to our main problematic: why are customers churning?\n",
    "\n",
    "## 2.1 Seasonality  <a class=\"anchor\" id=\"2.1-bullet\"></a> \n",
    "\n",
    "Are customers more likely to churn at some specific time in the year?"
   ]
  },
  {
   "cell_type": "code",
   "execution_count": 16,
   "metadata": {
    "ExecuteTime": {
     "end_time": "2019-01-30T15:11:36.005984Z",
     "start_time": "2019-01-30T15:11:35.490375Z"
    },
    "scrolled": true
   },
   "outputs": [
    {
     "data": {
      "image/png": "[encoded data removed]",
      "text/plain": [
       "<Figure size 1152x360 with 1 Axes>"
      ]
     },
     "metadata": {
      "needs_background": "light"
     },
     "output_type": "display_data"
    }
   ],
   "source": [
    "df_policy_info_cancelled = data[data[\"last_policy_status\"]==\"cancelled\"][[\"last_termination_dt\"]]\n",
    "df_policy_info_cancelled = df_latest_policy_info.dropna()\n",
    "df_policy_info_cancelled[\"count\"] = 1\n",
    "df_policy_info_cancelled[\"last_termination_dt\"] = df_policy_info_cancelled[\"last_termination_dt\"].map(lambda x: x.strftime('%Y-%m'))\n",
    "cancellations_history = df_policy_info_cancelled.groupby(\"last_termination_dt\").agg('sum')\n",
    "ax = cancellations_history.plot(kind='bar', figsize=(16,5), title=\"cancellations per month\")\n",
    "ax.set_xlabel(\"termination_date\")\n",
    "ax.set_ylabel(\"cancelations\")\n",
    "plt.show()"
   ]
  },
  {
   "cell_type": "markdown",
   "metadata": {},
   "source": [
    "Only a small fraction of termination dates (15% of cancellations) were available, therefore this chart is to be taken with a grain of salt. However, it seems data was mostly collected in 2017, and the number of cancelations seems stable at around 150 per month... Except maybe for december.\n",
    "\n",
    "## 2.2. Product Performance <a class=\"anchor\" id=\"2.2-bullet\"></a> \n",
    "\n",
    "What are the worst policy types? Or do they just worth each other?"
   ]
  },
  {
   "cell_type": "code",
   "execution_count": 17,
   "metadata": {
    "ExecuteTime": {
     "end_time": "2019-01-30T15:11:37.646574Z",
     "start_time": "2019-01-30T15:11:36.005984Z"
    },
    "scrolled": true
   },
   "outputs": [
    {
     "name": "stdout",
     "output_type": "stream",
     "text": [
      "The 12 worst policy codes represent 25.00 % of policies and 78.95 % of cancellations\n"
     ]
    },
    {
     "data": {
      "text/plain": [
       "Text(0,0.5,'cancellation ratio')"
      ]
     },
     "execution_count": 17,
     "metadata": {},
     "output_type": "execute_result"
    },
    {
     "data": {
      "image/png": "[encoded data removed]",
      "text/plain": [
       "<Figure size 1152x360 with 1 Axes>"
      ]
     },
     "metadata": {
      "needs_background": "light"
     },
     "output_type": "display_data"
    },
    {
     "data": {
      "image/png": "[encoded data removed]",
      "text/plain": [
       "<Figure size 1152x360 with 1 Axes>"
      ]
     },
     "metadata": {
      "needs_background": "light"
     },
     "output_type": "display_data"
    }
   ],
   "source": [
    "######################### Gathering the product code for each cancelled policy.\n",
    "df_product_code_cancelled = data.dropna(subset=[\"policy_id\", \"last_policy_status\"]).copy()\n",
    "df_product_code_cancelled[\"status\"]= df_product_code_cancelled[\"last_policy_status\"].map(lambda x: 1 if x==\"active\" else 0.) # cancelled = 0.\n",
    "df_product_code_active = df_product_code_cancelled[df_product_code_cancelled[\"status\"] == 1. ]\n",
    "df_product_code_cancelled = df_product_code_cancelled[df_product_code_cancelled[\"status\"] == 0. ]\n",
    "df_product_code_cancelled = df_product_code_cancelled[[\"product_code\"]]\n",
    "df_product_code_cancelled[\"count_cancelled\"] = 1\n",
    "\n",
    "######################### Counting the amount of cancelled policies per product code\n",
    "df_product_code_cancelled = df_product_code_cancelled.groupby(\"product_code\").agg(\"count\")\n",
    "df_product_code_cancelled = df_product_code_cancelled.sort_values(by=\"count_cancelled\", ascending=False)\n",
    "ax = df_product_code_cancelled.plot(kind=\"bar\", figsize=(16,5), title=\"Policy codes ordered by decreasing order of cancellations\")\n",
    "ax.set_ylabel(\"cancellations\")\n",
    "n=12\n",
    "print(\"The %d worst policy codes represent %4.2f %% of policies and %4.2f %% of cancellations\"%(n, n / len(df_product_code_cancelled.index)*100,df_product_code_cancelled[\"count_cancelled\"][:n].sum() / df_product_code_cancelled[\"count_cancelled\"].sum()*100))\n",
    "\n",
    "######################## Ratio of cancelled policies out of total subscriptions per product code\n",
    "##### counting active policies\n",
    "df_product_code_active = df_product_code_active[[\"product_code\"]]\n",
    "df_product_code_active[\"count_active\"] = 1\n",
    "df_product_code_active = df_product_code_active.groupby(\"product_code\").agg(\"count\")\n",
    "df_product_code_active = df_product_code_active.sort_values(by=\"count_active\", ascending=False)\n",
    "\n",
    "##### merging\n",
    "df_product_code_active = df_product_code_active.reset_index()\n",
    "df_product_code_cancelled =df_product_code_cancelled.reset_index()\n",
    "df_product_code = pd.merge(df_product_code_cancelled, df_product_code_active, on=\"product_code\", how=\"outer\")\n",
    "df_product_code[\"ratio\"]=df_product_code[\"count_cancelled\"]/(df_product_code[\"count_cancelled\"]+df_product_code[\"count_active\"])\n",
    "\n",
    "##### plotting\n",
    "df_product_code = df_product_code.set_index(\"product_code\")[[\"ratio\"]]\n",
    "df_product_code = df_product_code.sort_values(by=\"ratio\", ascending=False)\n",
    "ax = df_product_code.plot(kind=\"bar\", figsize=(16,5), title=\"Policy codes ordered by decreasing order of cancellation ratio\")\n",
    "ax.set_ylabel(\"cancellation ratio\")"
   ]
  },
  {
   "cell_type": "code",
   "execution_count": 18,
   "metadata": {
    "ExecuteTime": {
     "end_time": "2019-01-30T15:11:37.662179Z",
     "start_time": "2019-01-30T15:11:37.646574Z"
    }
   },
   "outputs": [
    {
     "name": "stdout",
     "output_type": "stream",
     "text": [
      "['BP_03610818', 'BP_06134513', 'BP_05367939', 'BP_03765630', 'BP_07897771']\n"
     ]
    }
   ],
   "source": [
    "######################## Printing out the codes of the worst policies\n",
    "print([x for x in df_product_code_cancelled[:10][\"product_code\"].values if x in df_product_code[:20].index.values])"
   ]
  },
  {
   "cell_type": "markdown",
   "metadata": {},
   "source": [
    "This chart is very insightful. It shows that some policy codes are clearly disliked by customers and cancelled often, both in terms of ratio and absolute number. \n",
    "Maybe the insurer could investigate to decide if it should suppress these policies, or just be more careful about its subscribers. Performance on these high-risk products may be considered a KPI for the performance of the teams.\n",
    "\n",
    "In particular the codes in the cell above correspond to products which are both in the worst20 for ratio of cancellation and worst10 for absolute number of cancellations."
   ]
  },
  {
   "cell_type": "markdown",
   "metadata": {},
   "source": [
    "## 2.3. Clustering :  <a class=\"anchor\" id=\"2.3-bullet\"></a> \n",
    "We want to find the best criterions to find if a policy is active or not"
   ]
  },
  {
   "cell_type": "code",
   "execution_count": 19,
   "metadata": {
    "ExecuteTime": {
     "end_time": "2019-01-30T15:11:37.959091Z",
     "start_time": "2019-01-30T15:11:37.662179Z"
    }
   },
   "outputs": [],
   "source": [
    "import pandas as pd\n",
    "from clustering_functions import single_df, get_merged, available_db, allsublist"
   ]
  },
  {
   "cell_type": "markdown",
   "metadata": {
    "ExecuteTime": {
     "end_time": "2019-01-30T15:04:00.776896Z",
     "start_time": "2019-01-30T15:04:00.761268Z"
    }
   },
   "source": [
    "We load the merged database, with string fields replaced by numeric fields, in order to be able to apply K_means algorithm"
   ]
  },
  {
   "cell_type": "code",
   "execution_count": 20,
   "metadata": {
    "ExecuteTime": {
     "end_time": "2019-01-30T15:11:38.099665Z",
     "start_time": "2019-01-30T15:11:37.959091Z"
    }
   },
   "outputs": [
    {
     "data": {
      "text/html": [
       "<div>\n",
       "<style scoped>\n",
       "    .dataframe tbody tr th:only-of-type {\n",
       "        vertical-align: middle;\n",
       "    }\n",
       "\n",
       "    .dataframe tbody tr th {\n",
       "        vertical-align: top;\n",
       "    }\n",
       "\n",
       "    .dataframe thead th {\n",
       "        text-align: right;\n",
       "    }\n",
       "</style>\n",
       "<table border=\"1\" class=\"dataframe\">\n",
       "  <thead>\n",
       "    <tr style=\"text-align: right;\">\n",
       "      <th></th>\n",
       "      <th>policy_status</th>\n",
       "      <th>sum_assured</th>\n",
       "      <th>policy_premium</th>\n",
       "      <th>nb_riders</th>\n",
       "      <th>rider_premium</th>\n",
       "      <th>last_policy_status</th>\n",
       "      <th>customer_origin</th>\n",
       "      <th>customer_gender</th>\n",
       "      <th>customer_marital_cd</th>\n",
       "      <th>customer_age</th>\n",
       "      <th>customer_social_group</th>\n",
       "      <th>customer_income</th>\n",
       "      <th>customer_additional_products</th>\n",
       "      <th>agent_age</th>\n",
       "      <th>agent_tenure</th>\n",
       "      <th>agent_status</th>\n",
       "      <th>agent_active_portfolio</th>\n",
       "      <th>agent_inactive_portfolio</th>\n",
       "    </tr>\n",
       "  </thead>\n",
       "  <tbody>\n",
       "    <tr>\n",
       "      <th>0</th>\n",
       "      <td>1</td>\n",
       "      <td>1252000.0</td>\n",
       "      <td>1500.0</td>\n",
       "      <td>1.0</td>\n",
       "      <td>1100.0</td>\n",
       "      <td>1</td>\n",
       "      <td>0</td>\n",
       "      <td>0</td>\n",
       "      <td>1</td>\n",
       "      <td>45.0</td>\n",
       "      <td>6.0</td>\n",
       "      <td>70000.0</td>\n",
       "      <td>1</td>\n",
       "      <td>30.0</td>\n",
       "      <td>1</td>\n",
       "      <td>1</td>\n",
       "      <td>89.0</td>\n",
       "      <td>61.0</td>\n",
       "    </tr>\n",
       "    <tr>\n",
       "      <th>1</th>\n",
       "      <td>1</td>\n",
       "      <td>1252000.0</td>\n",
       "      <td>1600.0</td>\n",
       "      <td>1.0</td>\n",
       "      <td>1100.0</td>\n",
       "      <td>1</td>\n",
       "      <td>0</td>\n",
       "      <td>0</td>\n",
       "      <td>1</td>\n",
       "      <td>45.0</td>\n",
       "      <td>6.0</td>\n",
       "      <td>80000.0</td>\n",
       "      <td>1</td>\n",
       "      <td>30.0</td>\n",
       "      <td>1</td>\n",
       "      <td>1</td>\n",
       "      <td>89.0</td>\n",
       "      <td>61.0</td>\n",
       "    </tr>\n",
       "    <tr>\n",
       "      <th>2</th>\n",
       "      <td>1</td>\n",
       "      <td>1072000.0</td>\n",
       "      <td>2200.0</td>\n",
       "      <td>2.0</td>\n",
       "      <td>1600.0</td>\n",
       "      <td>0</td>\n",
       "      <td>0</td>\n",
       "      <td>1</td>\n",
       "      <td>1</td>\n",
       "      <td>55.0</td>\n",
       "      <td>1.0</td>\n",
       "      <td>90000.0</td>\n",
       "      <td>1</td>\n",
       "      <td>30.0</td>\n",
       "      <td>3</td>\n",
       "      <td>1</td>\n",
       "      <td>93.0</td>\n",
       "      <td>79.0</td>\n",
       "    </tr>\n",
       "    <tr>\n",
       "      <th>3</th>\n",
       "      <td>1</td>\n",
       "      <td>1360000.0</td>\n",
       "      <td>1500.0</td>\n",
       "      <td>2.0</td>\n",
       "      <td>1300.0</td>\n",
       "      <td>1</td>\n",
       "      <td>1</td>\n",
       "      <td>1</td>\n",
       "      <td>1</td>\n",
       "      <td>30.0</td>\n",
       "      <td>7.0</td>\n",
       "      <td>60000.0</td>\n",
       "      <td>2</td>\n",
       "      <td>30.0</td>\n",
       "      <td>3</td>\n",
       "      <td>1</td>\n",
       "      <td>93.0</td>\n",
       "      <td>79.0</td>\n",
       "    </tr>\n",
       "    <tr>\n",
       "      <th>4</th>\n",
       "      <td>1</td>\n",
       "      <td>1274000.0</td>\n",
       "      <td>1700.0</td>\n",
       "      <td>2.0</td>\n",
       "      <td>1300.0</td>\n",
       "      <td>1</td>\n",
       "      <td>1</td>\n",
       "      <td>1</td>\n",
       "      <td>2</td>\n",
       "      <td>40.0</td>\n",
       "      <td>3.0</td>\n",
       "      <td>150000.0</td>\n",
       "      <td>2</td>\n",
       "      <td>50.0</td>\n",
       "      <td>2</td>\n",
       "      <td>1</td>\n",
       "      <td>176.0</td>\n",
       "      <td>55.0</td>\n",
       "    </tr>\n",
       "  </tbody>\n",
       "</table>\n",
       "</div>"
      ],
      "text/plain": [
       "   policy_status  sum_assured  policy_premium  nb_riders  rider_premium  \\\n",
       "0              1    1252000.0          1500.0        1.0         1100.0   \n",
       "1              1    1252000.0          1600.0        1.0         1100.0   \n",
       "2              1    1072000.0          2200.0        2.0         1600.0   \n",
       "3              1    1360000.0          1500.0        2.0         1300.0   \n",
       "4              1    1274000.0          1700.0        2.0         1300.0   \n",
       "\n",
       "   last_policy_status  customer_origin  customer_gender  customer_marital_cd  \\\n",
       "0                   1                0                0                    1   \n",
       "1                   1                0                0                    1   \n",
       "2                   0                0                1                    1   \n",
       "3                   1                1                1                    1   \n",
       "4                   1                1                1                    2   \n",
       "\n",
       "   customer_age  customer_social_group  customer_income  \\\n",
       "0          45.0                    6.0          70000.0   \n",
       "1          45.0                    6.0          80000.0   \n",
       "2          55.0                    1.0          90000.0   \n",
       "3          30.0                    7.0          60000.0   \n",
       "4          40.0                    3.0         150000.0   \n",
       "\n",
       "   customer_additional_products  agent_age  agent_tenure  agent_status  \\\n",
       "0                             1       30.0             1             1   \n",
       "1                             1       30.0             1             1   \n",
       "2                             1       30.0             3             1   \n",
       "3                             2       30.0             3             1   \n",
       "4                             2       50.0             2             1   \n",
       "\n",
       "   agent_active_portfolio  agent_inactive_portfolio  \n",
       "0                    89.0                      61.0  \n",
       "1                    89.0                      61.0  \n",
       "2                    93.0                      79.0  \n",
       "3                    93.0                      79.0  \n",
       "4                   176.0                      55.0  "
      ]
     },
     "execution_count": 20,
     "metadata": {},
     "output_type": "execute_result"
    }
   ],
   "source": [
    "merged1 = get_merged([available_db.latest_policy_info, \n",
    "                     available_db.customer_info, \n",
    "                     available_db.policy_info,\n",
    "                     available_db.agent_info\n",
    "                    ])\n",
    "\n",
    "merged = merged1[['policy_status',\n",
    "       #'last_payment_dt', 'policy_issue_dt', \n",
    "                  'sum_assured', 'policy_premium', 'nb_riders',\n",
    "                  'rider_premium', 'last_policy_status',\n",
    "                  'customer_origin','customer_gender', 'customer_marital_cd', 'customer_age',\n",
    "       'customer_social_group', 'customer_income',\n",
    "       'customer_additional_products', 'agent_age',\n",
    "       'agent_tenure', 'agent_status', 'agent_active_portfolio',\n",
    "       'agent_inactive_portfolio']]\n",
    "del merged1\n",
    "\n",
    "pd.options.mode.chained_assignment = None \n",
    "merged['policy_status'] =  merged['policy_status'].apply(lambda x : 1 if x==\"active\" else 0)\n",
    "merged[\"last_policy_status\"]= merged[\"last_policy_status\"].apply(lambda x: 0 if x==\"cancelled\" else 1)\n",
    "merged[\"customer_origin\"]= merged[\"customer_origin\"].apply(lambda x: 0 if x==\"new\" else 1)\n",
    "merged[\"customer_gender\"]= merged[\"customer_gender\"].apply(lambda x: 0 if x==\"F\" else 1)\n",
    "merged[\"agent_status\"]= merged[\"agent_status\"].apply(lambda x: 1 if x==\"active\" else 0)\n",
    "merged.head()"
   ]
  },
  {
   "cell_type": "markdown",
   "metadata": {},
   "source": [
    "We want to have the X and y used for the K_means method"
   ]
  },
  {
   "cell_type": "code",
   "execution_count": 21,
   "metadata": {
    "ExecuteTime": {
     "end_time": "2019-01-30T15:11:38.130949Z",
     "start_time": "2019-01-30T15:11:38.099665Z"
    }
   },
   "outputs": [],
   "source": [
    "merged.dropna(inplace=True)\n",
    "X_clustering,y_clustering = merged.drop([\"policy_status\"], axis = 1), merged['policy_status']\n",
    "\n",
    "fields = ['customer_origin','customer_gender', 'customer_marital_cd', 'customer_age',\n",
    "       'customer_social_group', 'customer_income',\n",
    "       'customer_additional_products', 'agent_age',\n",
    "       'agent_tenure', 'agent_status', 'agent_active_portfolio',\n",
    "       'agent_inactive_portfolio']"
   ]
  },
  {
   "cell_type": "markdown",
   "metadata": {},
   "source": [
    "We try to find which subset of field is the best, which one has the best prediction (here it is >0.65)"
   ]
  },
  {
   "cell_type": "code",
   "execution_count": 22,
   "metadata": {
    "ExecuteTime": {
     "end_time": "2019-01-30T15:18:53.397212Z",
     "start_time": "2019-01-30T15:16:26.589450Z"
    }
   },
   "outputs": [
    {
     "name": "stdout",
     "output_type": "stream",
     "text": [
      "Score with random vector : about 0.50\n",
      "it may take about 2 minutes as there are many subset to analyze.\n",
      "Trying to find the best predictions among 5 sized subset of data.\n"
     ]
    },
    {
     "data": {
      "application/vnd.jupyter.widget-view+json": {
       "model_id": "7d0eb806be0645ddb67ae4acb5d9459e",
       "version_major": 2,
       "version_minor": 0
      },
      "text/plain": [
       "HBox(children=(IntProgress(value=0, max=792), HTML(value='')))"
      ]
     },
     "metadata": {},
     "output_type": "display_data"
    },
    {
     "name": "stdout",
     "output_type": "stream",
     "text": [
      "\n",
      "Trying to find the best predictions among 6 sized subset of data.\n"
     ]
    },
    {
     "data": {
      "application/vnd.jupyter.widget-view+json": {
       "model_id": "ca7195cca9104fc785a6b9d8f03467fd",
       "version_major": 2,
       "version_minor": 0
      },
      "text/plain": [
       "HBox(children=(IntProgress(value=0, max=924), HTML(value='')))"
      ]
     },
     "metadata": {},
     "output_type": "display_data"
    },
    {
     "name": "stdout",
     "output_type": "stream",
     "text": [
      "\n",
      "Trying to find the best predictions among 7 sized subset of data.\n"
     ]
    },
    {
     "data": {
      "application/vnd.jupyter.widget-view+json": {
       "model_id": "92e5bc6dd76949a689481b0262c8ca0b",
       "version_major": 2,
       "version_minor": 0
      },
      "text/plain": [
       "HBox(children=(IntProgress(value=0, max=792), HTML(value='')))"
      ]
     },
     "metadata": {},
     "output_type": "display_data"
    },
    {
     "name": "stdout",
     "output_type": "stream",
     "text": [
      "\n",
      "Trying to find the best predictions among 8 sized subset of data.\n"
     ]
    },
    {
     "data": {
      "application/vnd.jupyter.widget-view+json": {
       "model_id": "6ca1494b74af4f71823ce0144b653edc",
       "version_major": 2,
       "version_minor": 0
      },
      "text/plain": [
       "HBox(children=(IntProgress(value=0, max=495), HTML(value='')))"
      ]
     },
     "metadata": {},
     "output_type": "display_data"
    },
    {
     "name": "stdout",
     "output_type": "stream",
     "text": [
      "\n",
      "Trying to find the best predictions among 9 sized subset of data.\n"
     ]
    },
    {
     "data": {
      "application/vnd.jupyter.widget-view+json": {
       "model_id": "3ae084d54f3c4451ae018b5eda4f55d6",
       "version_major": 2,
       "version_minor": 0
      },
      "text/plain": [
       "HBox(children=(IntProgress(value=0, max=220), HTML(value='')))"
      ]
     },
     "metadata": {},
     "output_type": "display_data"
    },
    {
     "name": "stdout",
     "output_type": "stream",
     "text": [
      "\n",
      "Trying to find the best predictions among 10 sized subset of data.\n"
     ]
    },
    {
     "data": {
      "application/vnd.jupyter.widget-view+json": {
       "model_id": "1afd628919c943019e98d8025b2ecc75",
       "version_major": 2,
       "version_minor": 0
      },
      "text/plain": [
       "HBox(children=(IntProgress(value=0, max=66), HTML(value='')))"
      ]
     },
     "metadata": {},
     "output_type": "display_data"
    },
    {
     "name": "stdout",
     "output_type": "stream",
     "text": [
      "\n",
      "Trying to find the best predictions among 11 sized subset of data.\n"
     ]
    },
    {
     "data": {
      "application/vnd.jupyter.widget-view+json": {
       "model_id": "272eaf42df7e4ae0ac99d0c4685e5dad",
       "version_major": 2,
       "version_minor": 0
      },
      "text/plain": [
       "HBox(children=(IntProgress(value=0, max=12), HTML(value='')))"
      ]
     },
     "metadata": {},
     "output_type": "display_data"
    },
    {
     "name": "stdout",
     "output_type": "stream",
     "text": [
      "\n"
     ]
    }
   ],
   "source": [
    "from sklearn.cluster import KMeans\n",
    "from matplotlib import pyplot as plt\n",
    "from random import randint\n",
    "from tqdm import tqdm_notebook as tqdm\n",
    "random_state = 42\n",
    "\n",
    "print(\"Score with random vector : about 0.50\")\n",
    "print(\"it may take about 2 minutes as there are many subset to analyze.\")\n",
    "good_subfield = []\n",
    "for i in range(5,len(fields)):\n",
    "    print(\"Trying to find the best predictions among\",i,\"sized subset of data.\")\n",
    "    for sublist_field in tqdm(allsublist(i,fields)):\n",
    "        y_pred = KMeans(n_clusters=2, random_state=random_state).fit_predict(X_clustering[list(sublist_field)])\n",
    "        \n",
    "        true_prediction = (y_pred==y_clustering)\n",
    "        score = len(true_prediction[true_prediction==True])/len(true_prediction)\n",
    "\n",
    "        if score > 0.65:\n",
    "            good_subfield.append((sublist_field,score))"
   ]
  },
  {
   "cell_type": "code",
   "execution_count": 23,
   "metadata": {
    "ExecuteTime": {
     "end_time": "2019-01-30T15:18:53.584672Z",
     "start_time": "2019-01-30T15:18:53.490926Z"
    }
   },
   "outputs": [
    {
     "name": "stdout",
     "output_type": "stream",
     "text": [
      "customer_origin 40\n",
      "customer_gender 44\n",
      "customer_marital_cd 45\n",
      "customer_age 55\n",
      "customer_social_group 39\n",
      "customer_income 0\n",
      "customer_additional_products 41\n",
      "agent_age 5\n",
      "agent_tenure 34\n",
      "agent_status 40\n",
      "agent_active_portfolio 0\n",
      "agent_inactive_portfolio 0\n",
      "\n",
      "best fields for clustering :\n",
      " ['customer_origin', 'customer_gender', 'customer_marital_cd', 'customer_age', 'customer_social_group', 'customer_additional_products', 'agent_tenure', 'agent_status']\n"
     ]
    }
   ],
   "source": [
    "best_fields = []\n",
    "for field in fields:\n",
    "    occurences = 0\n",
    "    for sub in good_subfield:\n",
    "        if field in sub[0]:\n",
    "            occurences += 1\n",
    "    print(field,occurences)\n",
    "    if occurences > len(good_subfield)/2:\n",
    "        best_fields.append(field)\n",
    "\n",
    "print(\"\\nbest fields for clustering :\\n\",best_fields)"
   ]
  },
  {
   "cell_type": "code",
   "execution_count": 24,
   "metadata": {
    "ExecuteTime": {
     "end_time": "2019-01-30T15:18:53.819039Z",
     "start_time": "2019-01-30T15:18:53.584672Z"
    }
   },
   "outputs": [
    {
     "name": "stdout",
     "output_type": "stream",
     "text": [
      "Score obtained with the best set : 0.68281\n"
     ]
    }
   ],
   "source": [
    "y_pred = KMeans(n_clusters=2, random_state=random_state).fit_predict(X_clustering[list(best_fields)])\n",
    "        \n",
    "true_prediction = (y_pred==y_clustering)\n",
    "score = score = len(true_prediction[true_prediction==True])/len(true_prediction)\n",
    "print(\"Score obtained with the best set : {:.5f}\".format(score))"
   ]
  },
  {
   "cell_type": "markdown",
   "metadata": {},
   "source": [
    "Finally we found what are the relevant fields to predict if a policy will be active or not. It is very important to find such an information. Indeed, the company can aim its strategy on collecting relevant data."
   ]
  },
  {
   "cell_type": "markdown",
   "metadata": {},
   "source": [
    "# 3. Studies <a class=\"anchor\" id=\"3-bullet\"></a> \n",
    "\n",
    "Please find below links towards some of our studies. These are the real rampstudio-like challenges, addressed with the ramp-workflow framework. \n",
    "\n",
    "Each one of the following projects comes with a complete starting-kit:\n",
    "- **DataBuilder.py**: a file which builds a training and testing sets in the folder \"data/\": *train.csv* and *test.csv*\n",
    "- **classifier.py** and **feature_extractor.py**: 2 files located under \"submissions/starting_kit/\" used in a pipeline to make a prediction based on the *\\*.csv* files\n",
    "- **problem.py**: the file used by the command `ramp_test_submission --quick-test`\n",
    "\n",
    "## 3.1 Global Churn prediction:  what are the main factors leading to churn? <a class=\"anchor\" id=\"3.1-bullet\"></a> \n",
    "\n",
    "In this section, we try to highlight the reasons behind a customer's decision to cancel a contract. In order to do so, we use interpretable models such as linear regressions or random forests, and then we explore the relative importance of the features in the decision-making process, as well as the process itself in the case of a single tree.\n",
    "\n",
    "With the starting kit, we achieve about 70% accuracy. \n",
    "\n",
    "## 3.2 Customer Value regression: which customers are to be targeted by the insurer? <a class=\"anchor\" id=\"3.2-bullet\"></a> \n",
    "In this section, we try to find the most appropriate insurance policy for customers based on their profiles.\n",
    "In order to do so, we predict for each policy the value that each customer is willing to pay.\n",
    "\n",
    "With the starting kit, we achieve about 70% accuracy. "
   ]
  },
  {
   "cell_type": "markdown",
   "metadata": {},
   "source": [
    "## 3.3 Agent performance regression: what are the best performing agents? <a class=\"anchor\" id=\"3.3-bullet\"></a> \n",
    "\n",
    "In this part, we try to answer the question why some agent performs better than others. \n",
    "\n",
    "From a business point of view this is a rather important question as the assurance company would like to understand how they can improve agent performance. Therefore we use an agent score, a KPI created as the average of the total percentage of portfolio held by an agent and the percentage of active portfolio held by an agent, and we try to predict whether an agent has a higher than median score or not. We find the following main results: \n",
    "   - Firstly, better performing agents do not perform better because they have a better clientele. They have almost the same types of clients as less well performing agents. \n",
    "   - Second, well performing agents are good in both having more contracts and having a higher percentage of active portfolios. \n",
    "   - Third, agents who perform better sell more additional products to clients. We think this is one of the reasons why they can retain the clients better: if a client has several insurances with the entreprise, s/he might be more likely to stick around for the comfort of one agent handling all assurances. Therefore if the company tries to decrease the percenatage of leaving clients, it should propose more package deals or reductions to already existing clients on additional products. \n",
    "   - Finally better performing agents use less contact by channel brokers and they have a larger portfolio (more contracts). \n",
    "  \n",
    "With the starting kit, we achieve about 70% accuracy. "
   ]
  },
  {
   "cell_type": "markdown",
   "metadata": {},
   "source": [
    "# 4. Conclusion <a class=\"anchor\" id=\"4-bullet\"></a> \n",
    "\n",
    "In this study we provide a data-based approach that could be used by an insurance company in order to increase its profit. Increasing profit means avoiding churn, better targeting customers, deleting some products, efficiently motivating employees.\n",
    "\n",
    "We build explainable models, each trying to understand a different aspect of performance. We belive our results constitute an interesting basis for a strategic analysis of the particular insurance company studied.\n",
    "\n",
    "We see that there could be many possible ways to improve the performance of the company, however we would need more industry knowledge, and potentially more data, to provide in-depth recommandations. "
   ]
  }
 ],
 "metadata": {
  "kernelspec": {
   "display_name": "Python 3",
   "language": "python",
   "name": "python3"
  },
  "language_info": {
   "codemirror_mode": {
    "name": "ipython",
    "version": 3
   },
   "file_extension": ".py",
   "mimetype": "text/x-python",
   "name": "python",
   "nbconvert_exporter": "python",
   "pygments_lexer": "ipython3",
   "version": "3.7.3"
  },
  "latex_envs": {
   "LaTeX_envs_menu_present": true,
   "autoclose": false,
   "autocomplete": true,
   "bibliofile": "biblio.bib",
   "cite_by": "apalike",
   "current_citInitial": 1,
   "eqLabelWithNumbers": true,
   "eqNumInitial": 1,
   "hotkeys": {
    "equation": "Ctrl-E",
    "itemize": "Ctrl-I"
   },
   "labels_anchors": false,
   "latex_user_defs": false,
   "report_style_numbering": false,
   "user_envs_cfg": false
  },
  "nbTranslate": {
   "displayLangs": [
    "en",
    "fr"
   ],
   "hotkey": "alt-t",
   "langInMainMenu": true,
   "sourceLang": "fr",
   "targetLang": "en",
   "useGoogleTranslate": true
  },
  "varInspector": {
   "cols": {
    "lenName": 16,
    "lenType": 16,
    "lenVar": 40
   },
   "kernels_config": {
    "python": {
     "delete_cmd_postfix": "",
     "delete_cmd_prefix": "del ",
     "library": "var_list.py",
     "varRefreshCmd": "print(var_dic_list())"
    },
    "r": {
     "delete_cmd_postfix": ") ",
     "delete_cmd_prefix": "rm(",
     "library": "var_list.r",
     "varRefreshCmd": "cat(var_dic_list()) "
    }
   },
   "types_to_exclude": [
    "module",
    "function",
    "builtin_function_or_method",
    "instance",
    "_Feature"
   ],
   "window_display": false
  }
 },
 "nbformat": 4,
 "nbformat_minor": 2
}
